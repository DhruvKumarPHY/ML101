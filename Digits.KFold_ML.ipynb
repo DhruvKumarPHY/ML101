{
 "cells": [
  {
   "cell_type": "code",
   "execution_count": 29,
   "id": "65df9cb7-8595-4036-9d5d-cb7e1f5b1a0e",
   "metadata": {},
   "outputs": [],
   "source": [
    "from sklearn.datasets import load_digits"
   ]
  },
  {
   "cell_type": "code",
   "execution_count": 30,
   "id": "7253c63c-e9fd-4b55-bd94-0ffc207a1199",
   "metadata": {},
   "outputs": [],
   "source": [
    "import pandas as pd\n",
    "import numpy as np\n",
    "import matplotlib.pyplot as plt"
   ]
  },
  {
   "cell_type": "code",
   "execution_count": 31,
   "id": "6aac26fc-d0b4-40e2-84e9-fd5152860dea",
   "metadata": {},
   "outputs": [],
   "source": [
    "digits = load_digits()"
   ]
  },
  {
   "cell_type": "code",
   "execution_count": 32,
   "id": "55054bf2-6e23-42a5-b3c4-a9d1b7640e7c",
   "metadata": {},
   "outputs": [
    {
     "data": {
      "text/plain": [
       "['DESCR', 'data', 'feature_names', 'frame', 'images', 'target', 'target_names']"
      ]
     },
     "execution_count": 32,
     "metadata": {},
     "output_type": "execute_result"
    }
   ],
   "source": [
    "dir(digits)"
   ]
  },
  {
   "cell_type": "code",
   "execution_count": 33,
   "id": "a8daa085-0fad-4ac9-8751-ce81c7a7fcb8",
   "metadata": {},
   "outputs": [],
   "source": [
    "from sklearn.model_selection import train_test_split"
   ]
  },
  {
   "cell_type": "code",
   "execution_count": 34,
   "id": "0d9b9195-1071-4beb-a13f-c18894771ec6",
   "metadata": {},
   "outputs": [],
   "source": [
    "X_train, X_test, Y_train, Y_test = train_test_split(digits.data,digits.target,test_size=0.3)"
   ]
  },
  {
   "cell_type": "code",
   "execution_count": 35,
   "id": "fe4d1ff2-ef9f-4f56-83df-cdd575d05ce8",
   "metadata": {},
   "outputs": [],
   "source": [
    "# Let's import some models to test \n",
    "from sklearn.linear_model import LogisticRegression\n",
    "from sklearn.svm import SVC\n",
    "from sklearn.ensemble import RandomForestClassifier"
   ]
  },
  {
   "cell_type": "code",
   "execution_count": 36,
   "id": "20ae7a34-bffd-4d09-a344-cddc52be93e6",
   "metadata": {},
   "outputs": [
    {
     "name": "stderr",
     "output_type": "stream",
     "text": [
      "/opt/anaconda3/lib/python3.8/site-packages/sklearn/linear_model/_logistic.py:763: ConvergenceWarning: lbfgs failed to converge (status=1):\n",
      "STOP: TOTAL NO. of ITERATIONS REACHED LIMIT.\n",
      "\n",
      "Increase the number of iterations (max_iter) or scale the data as shown in:\n",
      "    https://scikit-learn.org/stable/modules/preprocessing.html\n",
      "Please also refer to the documentation for alternative solver options:\n",
      "    https://scikit-learn.org/stable/modules/linear_model.html#logistic-regression\n",
      "  n_iter_i = _check_optimize_result(\n"
     ]
    },
    {
     "data": {
      "text/plain": [
       "0.9592592592592593"
      ]
     },
     "execution_count": 36,
     "metadata": {},
     "output_type": "execute_result"
    }
   ],
   "source": [
    "Lmodel = LogisticRegression()\n",
    "Lmodel.fit(X_train,Y_train)\n",
    "Lmodel.score(X_test,Y_test)"
   ]
  },
  {
   "cell_type": "code",
   "execution_count": 37,
   "id": "35725f93-c110-4d54-ae30-63d07ffc7d47",
   "metadata": {},
   "outputs": [
    {
     "data": {
      "text/plain": [
       "0.9851851851851852"
      ]
     },
     "execution_count": 37,
     "metadata": {},
     "output_type": "execute_result"
    }
   ],
   "source": [
    "svcmodel = SVC()\n",
    "svcmodel.fit(X_train,Y_train)\n",
    "svcmodel.score(X_test,Y_test)"
   ]
  },
  {
   "cell_type": "code",
   "execution_count": 38,
   "id": "dd14950d-8cdf-47c8-83d1-68271832758d",
   "metadata": {},
   "outputs": [
    {
     "data": {
      "text/plain": [
       "0.9666666666666667"
      ]
     },
     "execution_count": 38,
     "metadata": {},
     "output_type": "execute_result"
    }
   ],
   "source": [
    "Rmodel = RandomForestClassifier()\n",
    "Rmodel.fit(X_train,Y_train)\n",
    "Rmodel.score(X_test,Y_test)"
   ]
  },
  {
   "cell_type": "markdown",
   "id": "907ef9cb-cb66-448f-a7af-58589bccfffe",
   "metadata": {},
   "source": [
    "# KFold cross validation"
   ]
  },
  {
   "cell_type": "code",
   "execution_count": 39,
   "id": "43644e7f-87cd-4728-aaf6-af592669c768",
   "metadata": {},
   "outputs": [],
   "source": [
    "from sklearn.model_selection import KFold"
   ]
  },
  {
   "cell_type": "code",
   "execution_count": 40,
   "id": "a4450af8-e7c4-435a-846b-3aab8935eddf",
   "metadata": {},
   "outputs": [],
   "source": [
    "Kmodel = KFold(n_splits=4)"
   ]
  },
  {
   "cell_type": "code",
   "execution_count": 41,
   "id": "f56a8ac3-b21c-4663-b420-968106de5d98",
   "metadata": {},
   "outputs": [
    {
     "name": "stdout",
     "output_type": "stream",
     "text": [
      "[ 3  4  5  6  7  8  9 10 11] [0 1 2]\n",
      "[ 0  1  2  6  7  8  9 10 11] [3 4 5]\n",
      "[ 0  1  2  3  4  5  9 10 11] [6 7 8]\n",
      "[0 1 2 3 4 5 6 7 8] [ 9 10 11]\n"
     ]
    }
   ],
   "source": [
    "# example of implimenting KFold \n",
    "for train_index, test_index in Kmodel.split([1,2,3,4,5,6,7,8,9,10,11,12]):\n",
    "    print(train_index,test_index)\n",
    "# the first horizontal array gives the train_index and the second is the test_index    "
   ]
  },
  {
   "cell_type": "markdown",
   "id": "9a4bb783-eea0-4a20-9455-3303af5d1700",
   "metadata": {},
   "source": [
    "## Use KFold for our digits dataset"
   ]
  },
  {
   "cell_type": "code",
   "execution_count": 42,
   "id": "ad56ae89-368b-47cc-b346-a6749ab12ec7",
   "metadata": {},
   "outputs": [],
   "source": [
    "# let's define a function which can give the score easily by taking the following entries specified.\n",
    "def get_score(model, X_train, X_test, y_train, y_test):\n",
    "    model.fit(X_train, y_train)\n",
    "    return model.score(X_test, y_test)"
   ]
  },
  {
   "cell_type": "code",
   "execution_count": 43,
   "id": "075ee0ee-5982-42c7-ac49-e97ac3992631",
   "metadata": {},
   "outputs": [],
   "source": [
    "from sklearn.model_selection import StratifiedKFold\n",
    "folds = StratifiedKFold(n_splits=3)\n",
    "# we have given the empty list for the score \n",
    "scores_logistic = []\n",
    "scores_svm = []\n",
    "scores_rf = []"
   ]
  },
  {
   "cell_type": "code",
   "execution_count": 44,
   "id": "be7197f1-1de1-43e0-9936-f99d7a648243",
   "metadata": {},
   "outputs": [],
   "source": [
    "for train_index, test_index in folds.split(digits.data,digits.target):\n",
    "    X_train, X_test, y_train, y_test = digits.data[train_index], digits.data[test_index], \\\n",
    "                                       digits.target[train_index], digits.target[test_index]\n",
    "    scores_logistic.append(get_score(LogisticRegression(solver='liblinear',multi_class='ovr'), X_train, X_test, y_train, y_test))  \n",
    "    scores_svm.append(get_score(SVC(gamma='auto'), X_train, X_test, y_train, y_test))\n",
    "    scores_rf.append(get_score(RandomForestClassifier(n_estimators=40), X_train, X_test, y_train, y_test))\n",
    "# data  for traing and testing\n",
    "# target for training and testing   \n",
    "# scores_p.append(get_score(model, X_train, X_test, y_train, y_test))  \n",
    "# filling up the list"
   ]
  },
  {
   "cell_type": "code",
   "execution_count": 45,
   "id": "7d27c9b7-0df3-4e67-8608-f449bedcce7f",
   "metadata": {},
   "outputs": [
    {
     "data": {
      "text/plain": [
       "[0.8948247078464107, 0.9532554257095158, 0.9098497495826378]"
      ]
     },
     "execution_count": 45,
     "metadata": {},
     "output_type": "execute_result"
    }
   ],
   "source": [
    "scores_logistic"
   ]
  },
  {
   "cell_type": "code",
   "execution_count": 46,
   "id": "e6902870",
   "metadata": {},
   "outputs": [],
   "source": [
    "# converting to Numpy array as now we can perform some algebric operations.\n",
    "scores_logistic = np.array(scores_logistic) "
   ]
  },
  {
   "cell_type": "code",
   "execution_count": 47,
   "id": "3c330792",
   "metadata": {},
   "outputs": [
    {
     "data": {
      "text/plain": [
       "0.9193099610461881"
      ]
     },
     "execution_count": 47,
     "metadata": {},
     "output_type": "execute_result"
    }
   ],
   "source": [
    "scores_logistic.mean()"
   ]
  },
  {
   "cell_type": "code",
   "execution_count": 48,
   "id": "27aac8c9-f1fd-42a0-a2e4-279bf74b26c5",
   "metadata": {},
   "outputs": [
    {
     "data": {
      "text/plain": [
       "[0.9248747913188647, 0.9449081803005008, 0.9332220367278798]"
      ]
     },
     "execution_count": 48,
     "metadata": {},
     "output_type": "execute_result"
    }
   ],
   "source": [
    "scores_rf"
   ]
  },
  {
   "cell_type": "code",
   "execution_count": 49,
   "id": "bcc7b1c9",
   "metadata": {},
   "outputs": [],
   "source": [
    "scores_rf = np.array(scores_rf)"
   ]
  },
  {
   "cell_type": "code",
   "execution_count": 50,
   "id": "e8b2f793",
   "metadata": {},
   "outputs": [
    {
     "data": {
      "text/plain": [
       "0.9343350027824151"
      ]
     },
     "execution_count": 50,
     "metadata": {},
     "output_type": "execute_result"
    }
   ],
   "source": [
    "scores_rf.mean()"
   ]
  },
  {
   "cell_type": "code",
   "execution_count": 51,
   "id": "431caa4f-0b5b-41d8-b5ca-37f43bf46281",
   "metadata": {},
   "outputs": [
    {
     "data": {
      "text/plain": [
       "[0.3806343906510851, 0.41068447412353926, 0.5125208681135225]"
      ]
     },
     "execution_count": 51,
     "metadata": {},
     "output_type": "execute_result"
    }
   ],
   "source": [
    "scores_svm"
   ]
  },
  {
   "cell_type": "code",
   "execution_count": 52,
   "id": "287c933a",
   "metadata": {},
   "outputs": [],
   "source": [
    "scores_svm = np.array(scores_svm)"
   ]
  },
  {
   "cell_type": "code",
   "execution_count": 53,
   "id": "2c627a46-bde2-45b4-aeb9-97c5dee6b356",
   "metadata": {},
   "outputs": [
    {
     "data": {
      "text/plain": [
       "0.4346132442960489"
      ]
     },
     "execution_count": 53,
     "metadata": {},
     "output_type": "execute_result"
    }
   ],
   "source": [
    "scores_svm.mean()"
   ]
  },
  {
   "cell_type": "code",
   "execution_count": null,
   "id": "0a232cfa",
   "metadata": {},
   "outputs": [],
   "source": []
  }
 ],
 "metadata": {
  "kernelspec": {
   "display_name": "Python 3",
   "language": "python",
   "name": "python3"
  },
  "language_info": {
   "codemirror_mode": {
    "name": "ipython",
    "version": 3
   },
   "file_extension": ".py",
   "mimetype": "text/x-python",
   "name": "python",
   "nbconvert_exporter": "python",
   "pygments_lexer": "ipython3",
   "version": "3.8.8"
  }
 },
 "nbformat": 4,
 "nbformat_minor": 5
}
